{
 "cells": [
  {
   "cell_type": "code",
   "execution_count": 1,
   "metadata": {},
   "outputs": [],
   "source": [
    "import numpy as np"
   ]
  },
  {
   "cell_type": "code",
   "execution_count": 2,
   "metadata": {},
   "outputs": [
    {
     "data": {
      "text/plain": [
       "array([ 6, 19, 40, 70, 70, 59, 36])"
      ]
     },
     "execution_count": 2,
     "metadata": {},
     "output_type": "execute_result"
    }
   ],
   "source": [
    "np.convolve([1,2,3,4], [6,7,8,9])"
   ]
  },
  {
   "cell_type": "code",
   "execution_count": 3,
   "metadata": {},
   "outputs": [],
   "source": [
    "sequence1 = np.array([1, 2, 3, 4])\n",
    "sequence2 = np.array([6, 7, 8, 9])"
   ]
  },
  {
   "cell_type": "code",
   "execution_count": 4,
   "metadata": {},
   "outputs": [
    {
     "name": "stdout",
     "output_type": "stream",
     "text": [
      "[1 2 3 4]\n",
      "[6 7 8 9]\n"
     ]
    }
   ],
   "source": [
    "print(sequence1)\n",
    "print(sequence2)"
   ]
  },
  {
   "cell_type": "code",
   "execution_count": 6,
   "metadata": {},
   "outputs": [],
   "source": [
    "dft_sequence1 = np.fft.fft(sequence1)\n",
    "dft_sequence2 = np.fft.fft(sequence2)"
   ]
  },
  {
   "cell_type": "code",
   "execution_count": 7,
   "metadata": {},
   "outputs": [
    {
     "name": "stdout",
     "output_type": "stream",
     "text": [
      "[10.+0.j -2.+2.j -2.+0.j -2.-2.j]\n",
      "[30.+0.j -2.+2.j -2.+0.j -2.-2.j]\n"
     ]
    }
   ],
   "source": [
    "print(dft_sequence1)\n",
    "print(dft_sequence2)"
   ]
  },
  {
   "cell_type": "code",
   "execution_count": 8,
   "metadata": {},
   "outputs": [
    {
     "name": "stdout",
     "output_type": "stream",
     "text": [
      "[300.+0.j   0.-8.j   4.-0.j   0.+8.j]\n"
     ]
    }
   ],
   "source": [
    "Y = dft_sequence1*dft_sequence2\n",
    "print(Y)"
   ]
  },
  {
   "cell_type": "code",
   "execution_count": 10,
   "metadata": {},
   "outputs": [
    {
     "name": "stdout",
     "output_type": "stream",
     "text": [
      "[76. 78. 76. 70.]\n"
     ]
    }
   ],
   "source": [
    "print(np.real(np.fft.ifft(Y)))"
   ]
  },
  {
   "cell_type": "code",
   "execution_count": 19,
   "metadata": {},
   "outputs": [
    {
     "name": "stdout",
     "output_type": "stream",
     "text": [
      "[10.        +0.j         -2.02445867-6.22398166j  0.34601074+2.47912132j\n",
      "  0.17844793-2.42198468j  0.17844793+2.42198468j  0.34601074-2.47912132j\n",
      " -2.02445867+6.22398166j]\n",
      "[30.         +0.j          0.47554133-17.17719733j\n",
      "  2.84601074 +3.68305787j  2.67844793 -5.55688552j\n",
      "  2.67844793 +5.55688552j  2.84601074 -3.68305787j\n",
      "  0.47554133+17.17719733j]\n",
      "[ 300.         +0.j         -107.87327487+31.81476553j\n",
      "   -8.14599703 +8.32998346j  -12.9807281  -7.4787746j\n",
      "  -12.9807281  +7.4787746j    -8.14599703 -8.32998346j\n",
      " -107.87327487-31.81476553j]\n",
      "Tích chập (IDFT của DFT) của hai dãy: [ 6. 19. 40. 70. 70. 59. 36.]\n"
     ]
    }
   ],
   "source": [
    "import numpy as np\n",
    "\n",
    "# Dãy số\n",
    "sequence1 = np.array([1, 2, 3, 4])\n",
    "sequence2 = np.array([6, 7, 8, 9])\n",
    "\n",
    "# Kích thước tổng cộng cho tích chập\n",
    "N = len(sequence1) + len(sequence2) - 1\n",
    "\n",
    "# Tính DFT\n",
    "dft_sequence1 = np.fft.fft(sequence1, n=N)\n",
    "dft_sequence2 = np.fft.fft(sequence2, n=N)\n",
    "print(dft_sequence1)\n",
    "print(dft_sequence2)\n",
    "\n",
    "# Nhân các kết quả DFT\n",
    "convolution_dft = dft_sequence1 * dft_sequence2\n",
    "print(convolution_dft)\n",
    "# Tính IDFT của kết quả\n",
    "convolution_result = np.fft.ifft(convolution_dft)\n",
    "\n",
    "# In kết quả\n",
    "print(\"Tích chập (IDFT của DFT) của hai dãy:\", np.real(convolution_result))\n"
   ]
  },
  {
   "cell_type": "code",
   "execution_count": null,
   "metadata": {},
   "outputs": [],
   "source": []
  }
 ],
 "metadata": {
  "kernelspec": {
   "display_name": "base",
   "language": "python",
   "name": "python3"
  },
  "language_info": {
   "codemirror_mode": {
    "name": "ipython",
    "version": 3
   },
   "file_extension": ".py",
   "mimetype": "text/x-python",
   "name": "python",
   "nbconvert_exporter": "python",
   "pygments_lexer": "ipython3",
   "version": "3.11.7"
  }
 },
 "nbformat": 4,
 "nbformat_minor": 2
}
