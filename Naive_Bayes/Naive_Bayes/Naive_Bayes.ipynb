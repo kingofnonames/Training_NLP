{
 "cells": [
  {
   "cell_type": "markdown",
   "metadata": {},
   "source": [
    "# NAIVE BAYES"
   ]
  },
  {
   "cell_type": "markdown",
   "metadata": {},
   "source": [
    "$$\\hat{y} = \\arg\\max_{y} P(y) \\prod_{i=1}^{n} P(x_i \\mid y)$$"
   ]
  },
  {
   "cell_type": "markdown",
   "metadata": {},
   "source": [
    "$$P(x_i \\mid y) = \\hat{\\theta_{yi}} = \\dfrac{N_{yi} + \\alpha}{N_{y} + {\\alpha}n}$$"
   ]
  },
  {
   "cell_type": "code",
   "execution_count": 1,
   "metadata": {},
   "outputs": [],
   "source": [
    "import numpy as np\n",
    "from collections import defaultdict\n",
    "import pandas as pd\n",
    "from sklearn.model_selection import train_test_split\n",
    "from sklearn.metrics import accuracy_score\n",
    "from sklearn.model_selection import GridSearchCV\n",
    "from sklearn.feature_extraction.text import ENGLISH_STOP_WORDS\n",
    "import re"
   ]
  },
  {
   "cell_type": "code",
   "execution_count": 2,
   "metadata": {},
   "outputs": [],
   "source": [
    "def sentences_process(sentences):\n",
    "    sentences = sentences.lower()\n",
    "    cleaned_string = re.sub(r'[^a-zA-Z0-9 ]+', '', sentences)\n",
    "    cleaned_string = ' '.join( cleaned_string.split())\n",
    "    return cleaned_string"
   ]
  },
  {
   "cell_type": "code",
   "execution_count": 3,
   "metadata": {},
   "outputs": [
    {
     "name": "stdout",
     "output_type": "stream",
     "text": [
      "frozenset({'top', 'get', 'nobody', 'five', 'over', 'we', 'put', 'me', 'herself', 'among', 'too', 'still', 'myself', 'whereby', 'keep', 'than', 'how', 'every', 'sixty', 'wherever', 'towards', 'per', 'out', 'amongst', 'everyone', 'amount', 'who', 'it', 'becoming', 'those', 'or', 'cannot', 'herein', 'but', 'either', 'so', 'whom', 'whereupon', 'himself', 'amoungst', 'though', 'during', 'beforehand', 'can', 'hence', 'there', 'up', 'been', 'thick', 'and', 'fifteen', 'system', 'any', 'call', 'show', 'last', 'what', 'nevertheless', 'since', 'wherein', 'could', 'if', 'someone', 'its', 'became', 'move', 'fifty', 'hereby', 'yet', 'give', 'before', 'also', 'other', 'except', 'done', 'whoever', 'an', 'above', 'indeed', 'for', 'on', 'same', 'while', 'with', 'fill', 'anyhow', 'via', 'more', 'anything', 'mill', 'somehow', 'whereafter', 'my', 'always', 'some', 'another', 'twenty', 'yourselves', 'seemed', 'formerly', 'interest', 'us', 'go', 'something', 'most', 'co', 'etc', 'latterly', 'only', 'once', 'find', 'else', 'is', 'nine', 'their', 'anyone', 'often', 'con', 'whether', 'that', 'again', 'until', 'becomes', 'own', 'such', 'these', 'her', 'describe', 'hereupon', 'whence', 'neither', 'seeming', 'couldnt', 're', 'she', 'below', 'de', 'bill', 'thin', 'sometime', 'much', 'why', 'being', 'yours', 'might', 'side', 'nothing', 'he', 'ours', 'become', 'behind', 'afterwards', 'enough', 'therefore', 'beyond', 'empty', 'in', 'even', 'him', 'no', 'rather', 'without', 'although', 'namely', 'then', 'thus', 'bottom', 'here', 'a', 'thereafter', 'should', 'you', 'never', 'be', 'alone', 'ever', 'ie', 'which', 'hers', 'eleven', 'however', 'less', 'has', 'anyway', 'down', 'thereby', 'this', 'must', 'his', 'themselves', 'toward', 'made', 'thru', 'see', 'several', 'each', 'was', 'between', 'ourselves', 'against', 'whither', 'am', 'because', 'mine', 'therein', 'whole', 'take', 'were', 'three', 'through', 'eg', 'front', 'elsewhere', 'forty', 'part', 'about', 'few', 'together', 'may', 'not', 'anywhere', 'all', 'of', 'moreover', 'former', 'would', 'seems', 'whereas', 'will', 'after', 'back', 'besides', 'everywhere', 'do', 'hundred', 'from', 'perhaps', 'very', 'meanwhile', 'our', 'whose', 'serious', 'they', 'cry', 'noone', 'others', 'two', 'ltd', 'within', 'whenever', 'thereupon', 'sincere', 'when', 'off', 'along', 'where', 'found', 'otherwise', 'nowhere', 'four', 'upon', 'thence', 'twelve', 'around', 'whatever', 'your', 'name', 'first', 'had', 'ten', 'sometimes', 'the', 'none', 'hereafter', 'beside', 'by', 'fire', 'somewhere', 'at', 'least', 'everything', 'into', 'seem', 'further', 'have', 'cant', 'now', 'nor', 'to', 'under', 'them', 'latter', 'inc', 'almost', 'detail', 'yourself', 'eight', 'are', 'already', 'throughout', 'one', 'un', 'itself', 'onto', 'six', 'next', 'third', 'well', 'hasnt', 'many', 'across', 'as', 'mostly', 'please', 'i', 'due', 'full', 'both'})\n"
     ]
    }
   ],
   "source": [
    "print(ENGLISH_STOP_WORDS)"
   ]
  },
  {
   "cell_type": "code",
   "execution_count": 4,
   "metadata": {},
   "outputs": [],
   "source": [
    "class NaiveBayesClassifier:\n",
    "    def __init__ (self, alpha = 1.0):\n",
    "        self.classes = None\n",
    "        self.class_prob = defaultdict(float)\n",
    "        self.feature_prob = defaultdict(lambda : defaultdict(float))\n",
    "        self.vocab = set()\n",
    "        self.stop_words = ENGLISH_STOP_WORDS\n",
    "        self.alpha = alpha\n",
    "    def fit(self, X, y):\n",
    "        class_counts = defaultdict(int)\n",
    "        feature_counts = defaultdict(lambda : defaultdict(int))\n",
    "        total_docs = len(y)\n",
    "        for i in range(total_docs):\n",
    "            label = y[i]\n",
    "            class_counts[label] += 1\n",
    "            split_sentences = (sentences_process(X[i])).split()\n",
    "            for word in split_sentences:\n",
    "                if word not in self.stop_words:\n",
    "                    self.vocab.add(word)\n",
    "                    feature_counts[label][word] += 1\n",
    "        self.classes = class_counts.keys()\n",
    "        for label in class_counts:\n",
    "            self.class_prob[label] = class_counts[label] / total_docs\n",
    "        for label in self.classes:\n",
    "            total_words_in_class = sum(feature_counts[label].values())\n",
    "            for word in self.vocab:\n",
    "                self.feature_prob[label][word] = (feature_counts[label][word] + self.alpha) / (total_words_in_class + self.alpha*len(self.vocab))\n",
    "    def predict(self, X):\n",
    "        if not isinstance(X, list) : X = [X]\n",
    "        predictions = []\n",
    "        for doc in X:\n",
    "            class_scores = {}\n",
    "            split_senteces = (sentences_process(doc)).split()\n",
    "            for label in self.classes:\n",
    "                class_scores[label] = np.log(self.class_prob[label])\n",
    "                for word in split_senteces:\n",
    "                    if word in self.vocab and word not in self.stop_words:\n",
    "                        class_scores[label] += np.log(self.feature_prob[label][word])\n",
    "            predictions.append(max(class_scores, key = class_scores.get))\n",
    "        return predictions\n",
    "    def score(self, X, y):\n",
    "        predictions = self.predict(X)\n",
    "        accuracy = np.mean(np.array(predictions) == np.array(y))\n",
    "        return accuracy\n",
    "    def get_params(self, deep=True):\n",
    "        return {\"alpha\": self.alpha}\n",
    "    \n",
    "    def set_params(self, **params):\n",
    "        for key, value in params.items():\n",
    "            setattr(self, key, value)\n",
    "        return self"
   ]
  },
  {
   "cell_type": "code",
   "execution_count": 5,
   "metadata": {},
   "outputs": [
    {
     "name": "stdout",
     "output_type": "stream",
     "text": [
      "211 211\n",
      "Fitting 5 folds for each of 4 candidates, totalling 20 fits\n",
      "[CV 1/5] END ........................alpha=0.01;, score=0.837 total time=   0.0s\n",
      "[CV 2/5] END ........................alpha=0.01;, score=0.857 total time=   0.0s\n",
      "[CV 3/5] END ........................alpha=0.01;, score=0.952 total time=   0.0s\n",
      "[CV 4/5] END ........................alpha=0.01;, score=0.714 total time=   0.0s\n",
      "[CV 5/5] END ........................alpha=0.01;, score=0.786 total time=   0.0s\n",
      "[CV 1/5] END .........................alpha=0.1;, score=0.837 total time=   0.0s\n",
      "[CV 2/5] END .........................alpha=0.1;, score=0.857 total time=   0.0s\n",
      "[CV 3/5] END .........................alpha=0.1;, score=0.952 total time=   0.0s\n",
      "[CV 4/5] END .........................alpha=0.1;, score=0.714 total time=   0.0s\n",
      "[CV 5/5] END .........................alpha=0.1;, score=0.786 total time=   0.0s\n",
      "[CV 1/5] END ...........................alpha=1;, score=0.791 total time=   0.0s\n",
      "[CV 2/5] END ...........................alpha=1;, score=0.833 total time=   0.0s\n",
      "[CV 3/5] END ...........................alpha=1;, score=0.952 total time=   0.0s\n",
      "[CV 4/5] END ...........................alpha=1;, score=0.667 total time=   0.0s\n",
      "[CV 5/5] END ...........................alpha=1;, score=0.786 total time=   0.0s\n",
      "[CV 1/5] END ..........................alpha=10;, score=0.442 total time=   0.0s\n",
      "[CV 2/5] END ..........................alpha=10;, score=0.429 total time=   0.0s\n",
      "[CV 3/5] END ..........................alpha=10;, score=0.929 total time=   0.0s\n",
      "[CV 4/5] END ..........................alpha=10;, score=0.214 total time=   0.0s\n",
      "[CV 5/5] END ..........................alpha=10;, score=0.190 total time=   0.0s\n",
      "Best parameters: {'alpha': 0.01}\n",
      "Best score: 0.8293466223698782\n",
      "43\n",
      "43\n",
      "Dự đoán: 0.7906976744186046\n"
     ]
    }
   ],
   "source": [
    "file_path = r\"Naive_Bayes.xlsx\"\n",
    "df = pd.read_excel(file_path)\n",
    "df = df.dropna()\n",
    "X = df[\"Sentences\"]\n",
    "y = df[\"Label\"]\n",
    "print(len(X), len(y))\n",
    "X_train, X_test, y_train, y_test = train_test_split(X, y, test_size=0.2)\n",
    "param_grid = {'alpha' : [0.01, 0.1, 1, 10]}\n",
    "grid_search = GridSearchCV(NaiveBayesClassifier(), param_grid, cv=5, verbose=3) #cv = 5 chia tap du lieu thanh bao nhieu phan\n",
    "grid_search.fit(X.tolist(), y.tolist())\n",
    "print(\"Best parameters:\", grid_search.best_params_)\n",
    "print(\"Best score:\", grid_search.best_score_)\n",
    "nb_classifier = NaiveBayesClassifier(alpha = grid_search.best_params_['alpha'])\n",
    "nb_classifier.fit(X_train.tolist(), y_train.tolist())\n",
    "print(len(X_test))\n",
    "y_pred = nb_classifier.predict(X_test.tolist())\n",
    "print(len(y_test))\n",
    "accuracy = accuracy_score(y_test, y_pred)\n",
    "\n",
    "print(\"Dự đoán:\", accuracy)"
   ]
  },
  {
   "cell_type": "code",
   "execution_count": 6,
   "metadata": {},
   "outputs": [
    {
     "name": "stdout",
     "output_type": "stream",
     "text": [
      "['Positive']\n"
     ]
    }
   ],
   "source": [
    "print(nb_classifier.predict(\"I love you\"))"
   ]
  },
  {
   "cell_type": "code",
   "execution_count": null,
   "metadata": {},
   "outputs": [],
   "source": []
  }
 ],
 "metadata": {
  "kernelspec": {
   "display_name": "base",
   "language": "python",
   "name": "python3"
  },
  "language_info": {
   "codemirror_mode": {
    "name": "ipython",
    "version": 3
   },
   "file_extension": ".py",
   "mimetype": "text/x-python",
   "name": "python",
   "nbconvert_exporter": "python",
   "pygments_lexer": "ipython3",
   "version": "3.11.7"
  }
 },
 "nbformat": 4,
 "nbformat_minor": 2
}
